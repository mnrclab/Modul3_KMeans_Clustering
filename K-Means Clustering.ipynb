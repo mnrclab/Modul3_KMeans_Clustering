{
 "cells": [
  {
   "cell_type": "markdown",
   "metadata": {},
   "source": [
    "# **K-Means Clustering**"
   ]
  },
  {
   "cell_type": "markdown",
   "metadata": {},
   "source": [
    "**a. konsumen/pembeli**:\n",
    "- tingkat pendapatan -> output: company bisa menentukan jenis promo yang tepat, estimasi belanja, estimasi revenue, strategi pricing\n",
    "- demografi (usia) -> output: company bisa mengetahui 'need' konsumen\n",
    "- geografi (domisili) --> output: strategi pricing karena ada perbedaan biaya pengiriman, strategi iklan, strategi distribusi\n",
    "\n",
    "**b. karyawan**:\n",
    "- usia -> output: --> fasilitas kesehatan supaya karyawan bekerja optimal\n",
    "- KPI --> output: --> manajemen bonus, motivasi, training\n",
    "- Lama bekerja --> output: --> fasilitas/penghargaan\n",
    "- jarak rumah ke kantor --> output: --> kedisiplinan, kinerja & kebugaran\n",
    "- pendidikan --> output: --> manajemen gaji, staffing, skill\n",
    "\n",
    "<hr>"
   ]
  },
  {
   "cell_type": "markdown",
   "metadata": {},
   "source": [
    "Clustering is the task of ``dividing the population or data points into a number of groups`` such that data points in the same groups are more ``similar`` to other data points in the same group and ``dissimilar`` to the data points in other groups. It is basically a collection of objects on the basis of similarity and dissimilarity between them. \n",
    "\n",
    "<img src = 'd_img.png' width=600 height=500> \n",
    "\n",
    "``Clustering is the process of dividing the entire data into groups (also known as clusters) based on the patterns in the data.``\n",
    "\n",
    "<img src = 'e_img.png' width=600 height=400>\n",
    "\n",
    "``Such problems, without any fixed target variable, are known as unsupervised learning problems. In these problems, we only have the independent variables and no target/dependent variable.``\n",
    "\n",
    "``In clustering, we do not have a target to predict. We look at the data and then try to club similar observations and form different groups. Hence it is an unsupervised learning problem.``\n",
    "\n",
    "<hr>\n",
    "\n",
    "#### **Why Clustering ?**\n",
    "Clustering is very much important as it ``determines the intrinsic grouping among the unlabeled data present``. There are no criteria for a good clustering. It depends on the user, what is the criteria they may use which satisfy their need. \n",
    "\n",
    "For instance, we could be interested in finding representatives for homogeneous groups (data reduction), in finding “natural clusters” and describe their unknown properties (“natural” data types), in finding useful and suitable groupings (“useful” data classes) or in finding unusual data objects (outlier detection). \n",
    "\n",
    "This algorithm must make some assumptions which constitute the similarity of points and each assumption make different and equally valid clusters. \n",
    "\n",
    "<hr>\n",
    "\n",
    "**K-means** is one of the simplest unsupervised learning algorithms that solve the clustering problems. The procedure follows a simple and easy way to classify a given data set through a certain number of clusters (assume k clusters). The main idea is to define k centers, one for each cluster.\n",
    "\n",
    "<img src = 'f_img.gif'>"
   ]
  },
  {
   "cell_type": "markdown",
   "metadata": {},
   "source": [
    "### **K-Means is applied in**\n",
    "\n",
    "The K-means clustering algorithm is used to find groups which have not been explicitly labeled in the data and to find patterns and make better decisions.. Once the algorithm has been run and the groups are defined, any new data can be easily assigned to the most relevant group.\n",
    "\n",
    "-    Customer Profiling:\n",
    "-    Market segmentation,\n",
    "-    Computer vision\n",
    "-    Geo-statistics\n",
    "-    Astronomy\n",
    "\n",
    "<img src = 'g_img.png'>"
   ]
  },
  {
   "cell_type": "markdown",
   "metadata": {},
   "source": [
    "<hr>\n",
    "\n",
    "## **Algorithm**\n",
    "\n",
    "To start with k-means algorithm, you first have to randomly initialize points called the cluster centroids (K). K-means is an iterative algorithm and it does two steps: **1. Cluster assignment 2. Move centroid step.**\n",
    "\n",
    "<img src = 'a_img.png'>"
   ]
  },
  {
   "cell_type": "markdown",
   "metadata": {},
   "source": [
    "**1. Cluster assignment**\n",
    "\n",
    "The algorithm goes through each of the data points and depending on which cluster is closer. It assigns the data points to one of the three cluster centroids.\n",
    "\n",
    "**2. Move centroid**\n",
    "\n",
    "Here, K-means moves the centroids to the average of the points in a cluster. In other words, the algorithm calculates the average of all the points in a cluster and moves the centroid to that average location.\n",
    "\n",
    "This process is repeated until there is no change in the clusters (or possibly until some other stopping condition is met). K is chosen randomly or by giving specific initial starting points by the user.\n",
    "\n",
    "<img src = 'b_img.png'>"
   ]
  },
  {
   "cell_type": "markdown",
   "metadata": {},
   "source": [
    "### **How to select the best K**\n",
    "\n",
    "The algorithm clusters the data into k clusters, even if k is not the right number of clusters to use. Therefore, when using k-means clustering, users need some way to determine whether they are using the right number of clusters.\n",
    "\n",
    "One method to validate the number of clusters is the elbow method. The idea of the elbow method is to run k-means clustering on the dataset for a range of values of k (say, k from 1 to 10 in the examples above), and for each value of k calculate the sum of squared errors (SSE).\n",
    "\n",
    "<img src = 'c_img.png'>\n",
    "\n",
    "Then, plot a line chart of the SSE for each value of k. If the line chart looks like an arm, then the “elbow” on the arm is the value of k that is the best. The idea is that we want a small SSE, but that the SSE tends to decrease toward 0 as we increase k (the SSE is 0 when k is equal to the number of data points in the dataset, because then each data point is its own cluster, and there is no error between it and the center of its cluster)."
   ]
  },
  {
   "cell_type": "markdown",
   "metadata": {},
   "source": [
    "## **Mall Customers Segmentation**"
   ]
  },
  {
   "cell_type": "code",
   "execution_count": 63,
   "metadata": {},
   "outputs": [],
   "source": [
    "import numpy as np\n",
    "import pandas as pd\n",
    "import matplotlib.pyplot as plt\n",
    "import seaborn as sns\n",
    "\n",
    "from sklearn.cluster import KMeans\n",
    "from sklearn.preprocessing import LabelEncoder\n",
    "from sklearn import metrics"
   ]
  },
  {
   "cell_type": "code",
   "execution_count": 64,
   "metadata": {},
   "outputs": [
    {
     "data": {
      "text/html": [
       "<div>\n",
       "<style scoped>\n",
       "    .dataframe tbody tr th:only-of-type {\n",
       "        vertical-align: middle;\n",
       "    }\n",
       "\n",
       "    .dataframe tbody tr th {\n",
       "        vertical-align: top;\n",
       "    }\n",
       "\n",
       "    .dataframe thead th {\n",
       "        text-align: right;\n",
       "    }\n",
       "</style>\n",
       "<table border=\"1\" class=\"dataframe\">\n",
       "  <thead>\n",
       "    <tr style=\"text-align: right;\">\n",
       "      <th></th>\n",
       "      <th>CustomerID</th>\n",
       "      <th>Gender</th>\n",
       "      <th>Age</th>\n",
       "      <th>Annual Income (k$)</th>\n",
       "      <th>Spending Score (1-100)</th>\n",
       "    </tr>\n",
       "  </thead>\n",
       "  <tbody>\n",
       "    <tr>\n",
       "      <th>0</th>\n",
       "      <td>1</td>\n",
       "      <td>Male</td>\n",
       "      <td>19</td>\n",
       "      <td>15</td>\n",
       "      <td>39</td>\n",
       "    </tr>\n",
       "    <tr>\n",
       "      <th>1</th>\n",
       "      <td>2</td>\n",
       "      <td>Male</td>\n",
       "      <td>21</td>\n",
       "      <td>15</td>\n",
       "      <td>81</td>\n",
       "    </tr>\n",
       "    <tr>\n",
       "      <th>2</th>\n",
       "      <td>3</td>\n",
       "      <td>Female</td>\n",
       "      <td>20</td>\n",
       "      <td>16</td>\n",
       "      <td>6</td>\n",
       "    </tr>\n",
       "    <tr>\n",
       "      <th>3</th>\n",
       "      <td>4</td>\n",
       "      <td>Female</td>\n",
       "      <td>23</td>\n",
       "      <td>16</td>\n",
       "      <td>77</td>\n",
       "    </tr>\n",
       "    <tr>\n",
       "      <th>4</th>\n",
       "      <td>5</td>\n",
       "      <td>Female</td>\n",
       "      <td>31</td>\n",
       "      <td>17</td>\n",
       "      <td>40</td>\n",
       "    </tr>\n",
       "  </tbody>\n",
       "</table>\n",
       "</div>"
      ],
      "text/plain": [
       "   CustomerID  Gender  Age  Annual Income (k$)  Spending Score (1-100)\n",
       "0           1    Male   19                  15                      39\n",
       "1           2    Male   21                  15                      81\n",
       "2           3  Female   20                  16                       6\n",
       "3           4  Female   23                  16                      77\n",
       "4           5  Female   31                  17                      40"
      ]
     },
     "execution_count": 64,
     "metadata": {},
     "output_type": "execute_result"
    }
   ],
   "source": [
    "data = pd.read_csv('Mall_Customers.csv')\n",
    "data.head()"
   ]
  },
  {
   "cell_type": "code",
   "execution_count": 65,
   "metadata": {},
   "outputs": [
    {
     "data": {
      "text/plain": [
       "(200, 5)"
      ]
     },
     "execution_count": 65,
     "metadata": {},
     "output_type": "execute_result"
    }
   ],
   "source": [
    "data.shape"
   ]
  },
  {
   "cell_type": "code",
   "execution_count": 66,
   "metadata": {},
   "outputs": [
    {
     "data": {
      "text/html": [
       "<div>\n",
       "<style scoped>\n",
       "    .dataframe tbody tr th:only-of-type {\n",
       "        vertical-align: middle;\n",
       "    }\n",
       "\n",
       "    .dataframe tbody tr th {\n",
       "        vertical-align: top;\n",
       "    }\n",
       "\n",
       "    .dataframe thead th {\n",
       "        text-align: right;\n",
       "    }\n",
       "</style>\n",
       "<table border=\"1\" class=\"dataframe\">\n",
       "  <thead>\n",
       "    <tr style=\"text-align: right;\">\n",
       "      <th></th>\n",
       "      <th>CustomerID</th>\n",
       "      <th>Age</th>\n",
       "      <th>Annual Income (k$)</th>\n",
       "      <th>Spending Score (1-100)</th>\n",
       "    </tr>\n",
       "  </thead>\n",
       "  <tbody>\n",
       "    <tr>\n",
       "      <th>count</th>\n",
       "      <td>200.000000</td>\n",
       "      <td>200.000000</td>\n",
       "      <td>200.000000</td>\n",
       "      <td>200.000000</td>\n",
       "    </tr>\n",
       "    <tr>\n",
       "      <th>mean</th>\n",
       "      <td>100.500000</td>\n",
       "      <td>38.850000</td>\n",
       "      <td>60.560000</td>\n",
       "      <td>50.200000</td>\n",
       "    </tr>\n",
       "    <tr>\n",
       "      <th>std</th>\n",
       "      <td>57.879185</td>\n",
       "      <td>13.969007</td>\n",
       "      <td>26.264721</td>\n",
       "      <td>25.823522</td>\n",
       "    </tr>\n",
       "    <tr>\n",
       "      <th>min</th>\n",
       "      <td>1.000000</td>\n",
       "      <td>18.000000</td>\n",
       "      <td>15.000000</td>\n",
       "      <td>1.000000</td>\n",
       "    </tr>\n",
       "    <tr>\n",
       "      <th>25%</th>\n",
       "      <td>50.750000</td>\n",
       "      <td>28.750000</td>\n",
       "      <td>41.500000</td>\n",
       "      <td>34.750000</td>\n",
       "    </tr>\n",
       "    <tr>\n",
       "      <th>50%</th>\n",
       "      <td>100.500000</td>\n",
       "      <td>36.000000</td>\n",
       "      <td>61.500000</td>\n",
       "      <td>50.000000</td>\n",
       "    </tr>\n",
       "    <tr>\n",
       "      <th>75%</th>\n",
       "      <td>150.250000</td>\n",
       "      <td>49.000000</td>\n",
       "      <td>78.000000</td>\n",
       "      <td>73.000000</td>\n",
       "    </tr>\n",
       "    <tr>\n",
       "      <th>max</th>\n",
       "      <td>200.000000</td>\n",
       "      <td>70.000000</td>\n",
       "      <td>137.000000</td>\n",
       "      <td>99.000000</td>\n",
       "    </tr>\n",
       "  </tbody>\n",
       "</table>\n",
       "</div>"
      ],
      "text/plain": [
       "       CustomerID         Age  Annual Income (k$)  Spending Score (1-100)\n",
       "count  200.000000  200.000000          200.000000              200.000000\n",
       "mean   100.500000   38.850000           60.560000               50.200000\n",
       "std     57.879185   13.969007           26.264721               25.823522\n",
       "min      1.000000   18.000000           15.000000                1.000000\n",
       "25%     50.750000   28.750000           41.500000               34.750000\n",
       "50%    100.500000   36.000000           61.500000               50.000000\n",
       "75%    150.250000   49.000000           78.000000               73.000000\n",
       "max    200.000000   70.000000          137.000000               99.000000"
      ]
     },
     "execution_count": 66,
     "metadata": {},
     "output_type": "execute_result"
    }
   ],
   "source": [
    "data.describe()"
   ]
  },
  {
   "cell_type": "markdown",
   "metadata": {},
   "source": [
    "### __Check Missing Values__"
   ]
  },
  {
   "cell_type": "code",
   "execution_count": 67,
   "metadata": {},
   "outputs": [
    {
     "data": {
      "text/plain": [
       "CustomerID                0\n",
       "Gender                    0\n",
       "Age                       0\n",
       "Annual Income (k$)        0\n",
       "Spending Score (1-100)    0\n",
       "dtype: int64"
      ]
     },
     "execution_count": 67,
     "metadata": {},
     "output_type": "execute_result"
    }
   ],
   "source": [
    "data.isna().sum()"
   ]
  },
  {
   "cell_type": "markdown",
   "metadata": {},
   "source": [
    "### __Visualization__"
   ]
  },
  {
   "cell_type": "code",
   "execution_count": 68,
   "metadata": {},
   "outputs": [
    {
     "data": {
      "image/png": "[encoded data removed]",
      "text/plain": [
       "<Figure size 1080x432 with 3 Axes>"
      ]
     },
     "metadata": {},
     "output_type": "display_data"
    }
   ],
   "source": [
    "plt.style.use('seaborn')\n",
    "plt.figure(figsize=(15,6))\n",
    "\n",
    "n = 0\n",
    "for x in ['Age', 'Annual Income (k$)', 'Spending Score (1-100)']:\n",
    "    n += 1\n",
    "    plt.subplot(1, 3, n)\n",
    "    plt.subplots_adjust(hspace = 0.5, wspace = 0.5)\n",
    "    sns.distplot(data[x], bins = 15)\n",
    "    plt.title(f'Distribution of {x}')\n",
    "plt.show()"
   ]
  },
  {
   "cell_type": "code",
   "execution_count": 69,
   "metadata": {},
   "outputs": [
    {
     "data": {
      "image/png": "[encoded data removed]",
      "text/plain": [
       "<Figure size 576x360 with 1 Axes>"
      ]
     },
     "metadata": {},
     "output_type": "display_data"
    }
   ],
   "source": [
    "plt.figure(figsize=(8,5))\n",
    "sns.countplot(y = 'Gender', data = data)\n",
    "plt.show()"
   ]
  },
  {
   "cell_type": "markdown",
   "metadata": {},
   "source": [
    "### __Encode Gender Feature__"
   ]
  },
  {
   "cell_type": "code",
   "execution_count": 76,
   "metadata": {},
   "outputs": [],
   "source": [
    "df = data.copy()"
   ]
  },
  {
   "cell_type": "code",
   "execution_count": 77,
   "metadata": {},
   "outputs": [],
   "source": [
    "df['Gender_Bin'] = LabelEncoder().fit_transform(df[['Gender']])\n",
    "df = df.drop(['Gender'], axis = 1)"
   ]
  },
  {
   "cell_type": "markdown",
   "metadata": {},
   "source": [
    "### __Rename__"
   ]
  },
  {
   "cell_type": "code",
   "execution_count": 78,
   "metadata": {},
   "outputs": [],
   "source": [
    "df.rename(columns = {'Annual Income (k$)': 'Annual_Income', 'Spending Score (1-100)': 'Spending_Score'}, inplace = True)"
   ]
  },
  {
   "cell_type": "code",
   "execution_count": 79,
   "metadata": {},
   "outputs": [
    {
     "data": {
      "text/html": [
       "<div>\n",
       "<style scoped>\n",
       "    .dataframe tbody tr th:only-of-type {\n",
       "        vertical-align: middle;\n",
       "    }\n",
       "\n",
       "    .dataframe tbody tr th {\n",
       "        vertical-align: top;\n",
       "    }\n",
       "\n",
       "    .dataframe thead th {\n",
       "        text-align: right;\n",
       "    }\n",
       "</style>\n",
       "<table border=\"1\" class=\"dataframe\">\n",
       "  <thead>\n",
       "    <tr style=\"text-align: right;\">\n",
       "      <th></th>\n",
       "      <th>CustomerID</th>\n",
       "      <th>Age</th>\n",
       "      <th>Annual_Income</th>\n",
       "      <th>Spending_Score</th>\n",
       "      <th>Gender_Bin</th>\n",
       "    </tr>\n",
       "  </thead>\n",
       "  <tbody>\n",
       "    <tr>\n",
       "      <th>0</th>\n",
       "      <td>1</td>\n",
       "      <td>19</td>\n",
       "      <td>15</td>\n",
       "      <td>39</td>\n",
       "      <td>1</td>\n",
       "    </tr>\n",
       "    <tr>\n",
       "      <th>1</th>\n",
       "      <td>2</td>\n",
       "      <td>21</td>\n",
       "      <td>15</td>\n",
       "      <td>81</td>\n",
       "      <td>1</td>\n",
       "    </tr>\n",
       "    <tr>\n",
       "      <th>2</th>\n",
       "      <td>3</td>\n",
       "      <td>20</td>\n",
       "      <td>16</td>\n",
       "      <td>6</td>\n",
       "      <td>0</td>\n",
       "    </tr>\n",
       "    <tr>\n",
       "      <th>3</th>\n",
       "      <td>4</td>\n",
       "      <td>23</td>\n",
       "      <td>16</td>\n",
       "      <td>77</td>\n",
       "      <td>0</td>\n",
       "    </tr>\n",
       "    <tr>\n",
       "      <th>4</th>\n",
       "      <td>5</td>\n",
       "      <td>31</td>\n",
       "      <td>17</td>\n",
       "      <td>40</td>\n",
       "      <td>0</td>\n",
       "    </tr>\n",
       "  </tbody>\n",
       "</table>\n",
       "</div>"
      ],
      "text/plain": [
       "   CustomerID  Age  Annual_Income  Spending_Score  Gender_Bin\n",
       "0           1   19             15              39           1\n",
       "1           2   21             15              81           1\n",
       "2           3   20             16               6           0\n",
       "3           4   23             16              77           0\n",
       "4           5   31             17              40           0"
      ]
     },
     "execution_count": 79,
     "metadata": {},
     "output_type": "execute_result"
    }
   ],
   "source": [
    "df.head()"
   ]
  },
  {
   "cell_type": "markdown",
   "metadata": {},
   "source": [
    "<hr>\n",
    "\n",
    "## **Count Best k value for Training KMeans Model**\n",
    "\n",
    "Untuk mengaplikasikan K-Means clustering kita perlu menentukan nilai k (jumlah clusternya). Ada beberapa metode untuk menentukan jumlah kluster:\n",
    "1. Elbow Method\n",
    "2. Average Silhouette Method\n",
    "3. Gap Statistic Method\n",
    "\n",
    "Dalam penentuan jumlah kluster kali ini, metode yang digunakan yaitu **Elbow Method**. Elbow Method secara sederhana menentukan jumlah optimal kluster (_optimal cluster number_) dilihat dari _optimal inertia_. Melihat _optimal inertia_ dapat dibuat grafik berikut ini. Nilai kluster optimal ada di bagian siku grafik inertia."
   ]
  },
  {
   "cell_type": "code",
   "execution_count": 82,
   "metadata": {},
   "outputs": [
    {
     "name": "stdout",
     "output_type": "stream",
     "text": [
      "range(1, 10)\n",
      "[308862.06, 212889.44245524297, 143391.5923603568, 104414.67534220166, 75399.61541401483, 58348.64136331505, 51165.184237107926, 44391.820804870804, 40708.4571928072]\n"
     ]
    }
   ],
   "source": [
    "k = range(1, 10)\n",
    "inertia = []\n",
    "\n",
    "for i in k:\n",
    "    model = KMeans(n_clusters = i) # jumlah cluster akan dilooping dalam range (1 - 10)\n",
    "    model.fit(df[['Age', 'Annual_Income', 'Spending_Score', 'Gender_Bin']])\n",
    "    inertia.append(model.inertia_)\n",
    "\n",
    "print(k)\n",
    "print(inertia)"
   ]
  },
  {
   "cell_type": "code",
   "execution_count": 84,
   "metadata": {},
   "outputs": [
    {
     "data": {
      "image/png": "[encoded data removed]",
      "text/plain": [
       "<Figure size 576x396 with 1 Axes>"
      ]
     },
     "metadata": {},
     "output_type": "display_data"
    }
   ],
   "source": [
    "plt.plot(k, inertia) # untuk melihat pada sikut dalam plot\n",
    "plt.xlabel('k value')\n",
    "plt.ylabel('inertia sum squared error')\n",
    "plt.show()"
   ]
  },
  {
   "cell_type": "code",
   "execution_count": 86,
   "metadata": {},
   "outputs": [
    {
     "data": {
      "image/png": "[encoded data removed]",
      "text/plain": [
       "<Figure size 576x396 with 1 Axes>"
      ]
     },
     "metadata": {},
     "output_type": "display_data"
    }
   ],
   "source": [
    "plt.plot(k, inertia) # untuk melihat pada sikut dalam plot\n",
    "plt.xlabel('k value')\n",
    "plt.ylabel('inertia sum squared error')\n",
    "\n",
    "#memberi keterangan\n",
    "plt.plot(k[3], inertia[3], 'ro')\n",
    "plt.annotate(\n",
    "    'Best k value = 4',\n",
    "    xy=(k[3], inertia[3]),\n",
    "    xytext = (4, 30), arrowprops = dict(facecolor = 'black', shrink=0.1)\n",
    ")\n",
    "plt.show()"
   ]
  },
  {
   "cell_type": "markdown",
   "metadata": {},
   "source": [
    "### __Fitting KMeans Model__"
   ]
  },
  {
   "cell_type": "code",
   "execution_count": 87,
   "metadata": {},
   "outputs": [
    {
     "data": {
      "text/plain": [
       "KMeans(algorithm='auto', copy_x=True, init='k-means++', max_iter=1000,\n",
       "       n_clusters=4, n_init=10, n_jobs=None, precompute_distances='auto',\n",
       "       random_state=None, tol=0.0001, verbose=0)"
      ]
     },
     "execution_count": 87,
     "metadata": {},
     "output_type": "execute_result"
    }
   ],
   "source": [
    "model_KM = KMeans(n_clusters = 4, max_iter = 1000)\n",
    "model_KM.fit(df[['Age', 'Annual_Income', 'Spending_Score', 'Gender_Bin']])"
   ]
  },
  {
   "cell_type": "code",
   "execution_count": 88,
   "metadata": {},
   "outputs": [
    {
     "data": {
      "text/plain": [
       "array([1, 1, 2, 1, 2, 1, 2, 1, 2, 1, 2, 1, 2, 1, 2, 1, 2, 1, 2, 1, 2, 1,\n",
       "       2, 1, 2, 1, 2, 1, 2, 1, 2, 1, 2, 1, 2, 1, 2, 1, 2, 1, 2, 1, 2, 1,\n",
       "       2, 1, 2, 2, 2, 2, 2, 1, 2, 2, 2, 2, 2, 2, 2, 2, 2, 1, 2, 2, 2, 1,\n",
       "       2, 2, 1, 2, 2, 2, 2, 2, 2, 2, 2, 2, 2, 2, 2, 2, 2, 2, 2, 2, 2, 2,\n",
       "       2, 2, 2, 2, 2, 2, 2, 2, 2, 2, 2, 2, 2, 2, 2, 2, 2, 2, 2, 2, 2, 2,\n",
       "       2, 2, 2, 2, 2, 2, 2, 2, 2, 2, 2, 2, 2, 3, 0, 3, 0, 3, 0, 3, 0, 3,\n",
       "       0, 3, 0, 3, 0, 3, 0, 3, 0, 3, 0, 3, 0, 3, 0, 3, 0, 3, 0, 3, 0, 3,\n",
       "       0, 3, 0, 3, 0, 3, 0, 3, 0, 3, 0, 3, 0, 3, 0, 3, 0, 3, 0, 3, 0, 3,\n",
       "       0, 3, 0, 3, 0, 3, 0, 3, 0, 3, 0, 3, 0, 3, 0, 3, 0, 3, 0, 3, 0, 3,\n",
       "       0, 3])"
      ]
     },
     "execution_count": 88,
     "metadata": {},
     "output_type": "execute_result"
    }
   ],
   "source": [
    "# mengetahui hasil pengelompokkan\n",
    "model_KM.labels_"
   ]
  },
  {
   "cell_type": "markdown",
   "metadata": {},
   "source": [
    "### __Predict CLuster__"
   ]
  },
  {
   "cell_type": "code",
   "execution_count": 90,
   "metadata": {},
   "outputs": [
    {
     "data": {
      "text/html": [
       "<div>\n",
       "<style scoped>\n",
       "    .dataframe tbody tr th:only-of-type {\n",
       "        vertical-align: middle;\n",
       "    }\n",
       "\n",
       "    .dataframe tbody tr th {\n",
       "        vertical-align: top;\n",
       "    }\n",
       "\n",
       "    .dataframe thead th {\n",
       "        text-align: right;\n",
       "    }\n",
       "</style>\n",
       "<table border=\"1\" class=\"dataframe\">\n",
       "  <thead>\n",
       "    <tr style=\"text-align: right;\">\n",
       "      <th></th>\n",
       "      <th>CustomerID</th>\n",
       "      <th>Age</th>\n",
       "      <th>Annual_Income</th>\n",
       "      <th>Spending_Score</th>\n",
       "      <th>Gender_Bin</th>\n",
       "      <th>cluster</th>\n",
       "    </tr>\n",
       "  </thead>\n",
       "  <tbody>\n",
       "    <tr>\n",
       "      <th>0</th>\n",
       "      <td>1</td>\n",
       "      <td>19</td>\n",
       "      <td>15</td>\n",
       "      <td>39</td>\n",
       "      <td>1</td>\n",
       "      <td>1</td>\n",
       "    </tr>\n",
       "    <tr>\n",
       "      <th>1</th>\n",
       "      <td>2</td>\n",
       "      <td>21</td>\n",
       "      <td>15</td>\n",
       "      <td>81</td>\n",
       "      <td>1</td>\n",
       "      <td>1</td>\n",
       "    </tr>\n",
       "    <tr>\n",
       "      <th>2</th>\n",
       "      <td>3</td>\n",
       "      <td>20</td>\n",
       "      <td>16</td>\n",
       "      <td>6</td>\n",
       "      <td>0</td>\n",
       "      <td>2</td>\n",
       "    </tr>\n",
       "    <tr>\n",
       "      <th>3</th>\n",
       "      <td>4</td>\n",
       "      <td>23</td>\n",
       "      <td>16</td>\n",
       "      <td>77</td>\n",
       "      <td>0</td>\n",
       "      <td>1</td>\n",
       "    </tr>\n",
       "    <tr>\n",
       "      <th>4</th>\n",
       "      <td>5</td>\n",
       "      <td>31</td>\n",
       "      <td>17</td>\n",
       "      <td>40</td>\n",
       "      <td>0</td>\n",
       "      <td>2</td>\n",
       "    </tr>\n",
       "  </tbody>\n",
       "</table>\n",
       "</div>"
      ],
      "text/plain": [
       "   CustomerID  Age  Annual_Income  Spending_Score  Gender_Bin  cluster\n",
       "0           1   19             15              39           1        1\n",
       "1           2   21             15              81           1        1\n",
       "2           3   20             16               6           0        2\n",
       "3           4   23             16              77           0        1\n",
       "4           5   31             17              40           0        2"
      ]
     },
     "execution_count": 90,
     "metadata": {},
     "output_type": "execute_result"
    }
   ],
   "source": [
    "df['cluster'] = model_KM.predict(df[['Age', 'Annual_Income', 'Spending_Score', 'Gender_Bin']])\n",
    "df.head()"
   ]
  },
  {
   "cell_type": "markdown",
   "metadata": {},
   "source": [
    "### __Cluster Centroid__"
   ]
  },
  {
   "cell_type": "code",
   "execution_count": 91,
   "metadata": {},
   "outputs": [
    {
     "data": {
      "text/plain": [
       "array([[40.39473684, 87.        , 18.63157895,  0.52631579],\n",
       "       [24.82142857, 28.71428571, 74.25      ,  0.5       ],\n",
       "       [44.89473684, 48.70526316, 42.63157895,  0.37894737],\n",
       "       [32.69230769, 86.53846154, 82.12820513,  0.46153846]])"
      ]
     },
     "execution_count": 91,
     "metadata": {},
     "output_type": "execute_result"
    }
   ],
   "source": [
    "# mengetahui posisi centroids\n",
    "model_KM.cluster_centers_"
   ]
  },
  {
   "cell_type": "markdown",
   "metadata": {},
   "source": [
    "### __Plotting Cluster__\n",
    "\n",
    "#### __a. Age & Annual Income__"
   ]
  },
  {
   "cell_type": "code",
   "execution_count": 94,
   "metadata": {},
   "outputs": [
    {
     "data": {
      "text/plain": [
       "[<matplotlib.lines.Line2D at 0x13b1f4c0>]"
      ]
     },
     "execution_count": 94,
     "metadata": {},
     "output_type": "execute_result"
    },
    {
     "data": {
      "image/png": "[encoded data removed]",
      "text/plain": [
       "<Figure size 576x396 with 1 Axes>"
      ]
     },
     "metadata": {},
     "output_type": "display_data"
    }
   ],
   "source": [
    "plt.plot(df['Age'][df['cluster'] == 0], df['Annual_Income'][df['cluster'] == 0], 'r.')\n",
    "plt.plot(df['Age'][df['cluster'] == 1], df['Annual_Income'][df['cluster'] == 1], 'y.')\n",
    "plt.plot(df['Age'][df['cluster'] == 2], df['Annual_Income'][df['cluster'] == 2], 'b.')\n",
    "plt.plot(df['Age'][df['cluster'] == 3], df['Annual_Income'][df['cluster'] == 3], 'g.')"
   ]
  },
  {
   "cell_type": "markdown",
   "metadata": {},
   "source": [
    "#### __b. Age & Spending Score__"
   ]
  },
  {
   "cell_type": "code",
   "execution_count": 95,
   "metadata": {},
   "outputs": [
    {
     "data": {
      "text/plain": [
       "[<matplotlib.lines.Line2D at 0x13786748>]"
      ]
     },
     "execution_count": 95,
     "metadata": {},
     "output_type": "execute_result"
    },
    {
     "data": {
      "image/png": "[encoded data removed]",
      "text/plain": [
       "<Figure size 576x396 with 1 Axes>"
      ]
     },
     "metadata": {},
     "output_type": "display_data"
    }
   ],
   "source": [
    "plt.plot(df['Age'][df['cluster'] == 0], df['Spending_Score'][df['cluster'] == 0], 'r.')\n",
    "plt.plot(df['Age'][df['cluster'] == 1], df['Spending_Score'][df['cluster'] == 1], 'y.')\n",
    "plt.plot(df['Age'][df['cluster'] == 2], df['Spending_Score'][df['cluster'] == 2], 'b.')\n",
    "plt.plot(df['Age'][df['cluster'] == 3], df['Spending_Score'][df['cluster'] == 3], 'g.')"
   ]
  },
  {
   "cell_type": "markdown",
   "metadata": {},
   "source": [
    "#### __c. Gender & Annual Income__"
   ]
  },
  {
   "cell_type": "code",
   "execution_count": 96,
   "metadata": {},
   "outputs": [
    {
     "data": {
      "text/plain": [
       "[<matplotlib.lines.Line2D at 0x1277ea00>]"
      ]
     },
     "execution_count": 96,
     "metadata": {},
     "output_type": "execute_result"
    },
    {
     "data": {
      "image/png": "[encoded data removed]",
      "text/plain": [
       "<Figure size 576x396 with 1 Axes>"
      ]
     },
     "metadata": {},
     "output_type": "display_data"
    }
   ],
   "source": [
    "plt.plot(df['Gender_Bin'][df['cluster'] == 0], df['Annual_Income'][df['cluster'] == 0], 'r.')\n",
    "plt.plot(df['Gender_Bin'][df['cluster'] == 1], df['Annual_Income'][df['cluster'] == 1], 'y.')\n",
    "plt.plot(df['Gender_Bin'][df['cluster'] == 2], df['Annual_Income'][df['cluster'] == 2], 'b.')\n",
    "plt.plot(df['Gender_Bin'][df['cluster'] == 3], df['Annual_Income'][df['cluster'] == 3], 'g.')"
   ]
  },
  {
   "cell_type": "markdown",
   "metadata": {},
   "source": [
    "#### __d. Gender & Spending Score__"
   ]
  },
  {
   "cell_type": "code",
   "execution_count": 97,
   "metadata": {},
   "outputs": [
    {
     "data": {
      "text/plain": [
       "[<matplotlib.lines.Line2D at 0x12abe820>]"
      ]
     },
     "execution_count": 97,
     "metadata": {},
     "output_type": "execute_result"
    },
    {
     "data": {
      "image/png": "[encoded data removed]",
      "text/plain": [
       "<Figure size 576x396 with 1 Axes>"
      ]
     },
     "metadata": {},
     "output_type": "display_data"
    }
   ],
   "source": [
    "plt.plot(df['Gender_Bin'][df['cluster'] == 0], df['Spending_Score'][df['cluster'] == 0], 'r.')\n",
    "plt.plot(df['Gender_Bin'][df['cluster'] == 1], df['Spending_Score'][df['cluster'] == 1], 'y.')\n",
    "plt.plot(df['Gender_Bin'][df['cluster'] == 2], df['Spending_Score'][df['cluster'] == 2], 'b.')\n",
    "plt.plot(df['Gender_Bin'][df['cluster'] == 3], df['Spending_Score'][df['cluster'] == 3], 'g.')"
   ]
  },
  {
   "cell_type": "markdown",
   "metadata": {},
   "source": [
    "``Contoh di atas masih menggunakan seluruh feature. Tidak ada framework teori pemasaran untuk memilih feature yang tepat. Sehingga alur analisis clustering cukup sulit dipahami. Hal ini tentu akan menyulitkan marketing team untuk mengambil insight dari hasil analisis kita. Di bawah ini, Anda akan ditugaskan untuk membuat Clustering sesuai teori pemasaran.``"
   ]
  },
  {
   "cell_type": "markdown",
   "metadata": {},
   "source": [
    "<hr>\n",
    "\n",
    "## **Take Class Exercise**\n",
    "### - Tentukan feature apa saja dalam dataset Mall_Customer yang _make sense_ untuk user segmentation!\n",
    "### - Buat Clustering baru berdasarkan feature tersebut!\n",
    "### - Apa insight yang dapat Anda jelaskan dari segmentation yang Anda buat! (Perlakuan apa yang cocok sesuai segmen tersebut?)"
   ]
  },
  {
   "cell_type": "markdown",
   "metadata": {},
   "source": [
    "# **User Segmentation**\n",
    "\n",
    "<hr>\n",
    "\n",
    "Customer segmentation adalah proses membagi-bagi pasar/konsumen ke dalam kelompok-kelompok dengan karakteristik sama. Customer segmentation dapat menjadi sebuah cara yang powerful untuk mengindetifikasi kebutuhan konsumen .\n",
    "Metode umum yang sering dipakai untuk segmentasi user/customer dalam  adalah:\n",
    "1. **Demographic Information**, user dikelompokkan berdasarkan gender, usia, status pernikahan, status kepemilikan rumah, atau pendidikan.\n",
    "2. **Geographical Information**, user dikelompokkan berdasarkan domisili tempat tinggal atau tempat user bekerja.\n",
    "3. **Psychographics**, user dikelompokkan berdasarkan kelas sosial, lifestyle, dan kepribadian.\n",
    "4. **Behavioral Data**, user dikelompokkan berdasarkan kebiasaan mengonsumsi atau menggunakan suatu produk dan layanan.\n",
    "\n",
    "**Manfaat Customer Segmentation**\n",
    "1. Menentukan harga produk yang sesuai dengan daya beli user\n",
    "2. Membangun marketing campaign yang sesuai dengan karakter user\n",
    "3. Mendesain strategi distribusi yang optimal\n",
    "4. Memilih feature produk yang cocok dengan kebutuhan user\n",
    "5. Mampu memilih prioritas produk baru yang perlu dikembangkan"
   ]
  },
  {
   "cell_type": "markdown",
   "metadata": {},
   "source": [
    "<hr>\n",
    "\n",
    "## **Evaluation Metrics**"
   ]
  },
  {
   "cell_type": "code",
   "execution_count": 24,
   "metadata": {},
   "outputs": [
    {
     "data": {
      "text/plain": [
       "0.4052954330641215"
      ]
     },
     "execution_count": 24,
     "metadata": {},
     "output_type": "execute_result"
    }
   ],
   "source": [
    "# silhouette coefficient / koef bayangan\n",
    "# standart: -1 s/d 1 => seberapa bagus model mendefinisikan cluster\n",
    "\n",
    "metrics.silhouette_score(\n",
    "    df[['Age', 'Annual_Income', 'Spending_Score', 'Gender_Bin']],\n",
    "    model_KM.labels_,\n",
    "    metric = 'euclidean')\n"
   ]
  },
  {
   "cell_type": "code",
   "execution_count": 25,
   "metadata": {},
   "outputs": [
    {
     "data": {
      "text/plain": [
       "127.92482557839757"
      ]
     },
     "execution_count": 25,
     "metadata": {},
     "output_type": "execute_result"
    }
   ],
   "source": [
    "# Calinski-Harabasz index: variance ratio criterion\n",
    "# seberapa bagus model mendefinisikan cluster\n",
    "# lebih besar lebih bagus\n",
    "\n",
    "metrics.calinski_harabasz_score(\n",
    "    df[['Age', 'Annual_Income', 'Spending_Score', 'Gender_Bin']],\n",
    "    model_KM.labels_\n",
    ")"
   ]
  },
  {
   "cell_type": "code",
   "execution_count": 26,
   "metadata": {},
   "outputs": [
    {
     "data": {
      "text/plain": [
       "0.8918193554892447"
      ]
     },
     "execution_count": 26,
     "metadata": {},
     "output_type": "execute_result"
    }
   ],
   "source": [
    "# Davies-Bouldin Index\n",
    "# semakin rendah nilainya semakin bagus model dalam memisahkan cluster\n",
    "\n",
    "metrics.davies_bouldin_score(\n",
    "    df[['Age', 'Annual_Income', 'Spending_Score', 'Gender_Bin']],\n",
    "    model_KM.labels_\n",
    ")"
   ]
  },
  {
   "cell_type": "markdown",
   "metadata": {},
   "source": [
    "<hr>\n",
    "\n",
    "## **Mall Customer Segmentation**"
   ]
  },
  {
   "cell_type": "markdown",
   "metadata": {},
   "source": [
    "#### **Pilihan User Segmentation**\n",
    "Pada dataset di atas terdapat feature pada user yang bisa digunakan untuk user segmentation:\n",
    "1. Gender (__Demographic__)\n",
    "2. Age  (__Demographic__)\n",
    "3. Annual Income (__Behavioral Data Resource__)\n",
    "4. Spending Socre (__Behavioral Data__)\n",
    "\n",
    "\n",
    "Berdasarkan teori dan ketersediaan feature pada dataset, maka pilihan user segmentation: __Demographic information dan Behavioral Data__.\n",
    "\n",
    "**Pertama**, user segmentation berdasarkan skor belanja dan potensi konsumen menggunakan data ``Annual Income`` dan ``Spending Score`` menggunakan Kmeans.\n",
    "\n",
    "**Kedua**, setelah segmentasi pertama kita dapatkan cluster-cluster berdasarkan spending score dan annual income. Setelah itu tiap cluster akan dieksplorasi berdasarkan demografi user yaitu jenis kelamin (``gender_user``) dan usia (``age_user``). "
   ]
  },
  {
   "cell_type": "code",
   "execution_count": 27,
   "metadata": {},
   "outputs": [
    {
     "name": "stdout",
     "output_type": "stream",
     "text": [
      "range(1, 15)\n",
      "[269981.28, 183069.17582751293, 106348.37306211118, 73679.78903948834, 44448.45544793371, 37233.81451071001, 30241.34361793659, 24995.96978113596, 21806.812998695455, 19653.38360624882, 17515.872164701657, 16168.254587348136, 14584.299773630384, 13523.053896103895]\n"
     ]
    }
   ],
   "source": [
    "k = range(1, 15)\n",
    "inertia = []\n",
    "\n",
    "for i in k:\n",
    "    model = KMeans(n_clusters = i)\n",
    "    model.fit(df[['Annual_Income', 'Spending_Score']])\n",
    "    inertia.append(model.inertia_)\n",
    "\n",
    "print(k)\n",
    "print(inertia)"
   ]
  },
  {
   "cell_type": "code",
   "execution_count": 28,
   "metadata": {},
   "outputs": [
    {
     "data": {
      "text/plain": [
       "Text(4, 200, 'Best k value = 4')"
      ]
     },
     "execution_count": 28,
     "metadata": {},
     "output_type": "execute_result"
    },
    {
     "data": {
      "image/png": "[encoded data removed]",
      "text/plain": [
       "<Figure size 576x396 with 1 Axes>"
      ]
     },
     "metadata": {},
     "output_type": "display_data"
    }
   ],
   "source": [
    "plt.plot(k, inertia) #melihat pada sudut siku dalam plot\n",
    "plt.xlabel('k value')\n",
    "plt.ylabel('inertia sum squared error')\n",
    "plt.plot(k[3], inertia[3], 'ro')\n",
    "plt.annotate(\n",
    "    'Best k value = 4', xy=(k[3], inertia[3]),\n",
    "    xytext = (4, 200), arrowprops = dict(facecolor='black', shrink=0.2)\n",
    ")"
   ]
  },
  {
   "cell_type": "code",
   "execution_count": 29,
   "metadata": {},
   "outputs": [],
   "source": [
    "KM_model = KMeans(n_clusters = 4, max_iter = 10000)"
   ]
  },
  {
   "cell_type": "code",
   "execution_count": 30,
   "metadata": {},
   "outputs": [
    {
     "data": {
      "text/plain": [
       "KMeans(algorithm='auto', copy_x=True, init='k-means++', max_iter=10000,\n",
       "       n_clusters=4, n_init=10, n_jobs=None, precompute_distances='auto',\n",
       "       random_state=None, tol=0.0001, verbose=0)"
      ]
     },
     "execution_count": 30,
     "metadata": {},
     "output_type": "execute_result"
    }
   ],
   "source": [
    "KM_model.fit(df[['Annual_Income', 'Spending_Score']])"
   ]
  },
  {
   "cell_type": "code",
   "execution_count": 31,
   "metadata": {},
   "outputs": [],
   "source": [
    "df['Cluster2'] = KM_model.predict(df[['Annual_Income', 'Spending_Score']])"
   ]
  },
  {
   "cell_type": "code",
   "execution_count": 32,
   "metadata": {},
   "outputs": [
    {
     "data": {
      "text/html": [
       "<div>\n",
       "<style scoped>\n",
       "    .dataframe tbody tr th:only-of-type {\n",
       "        vertical-align: middle;\n",
       "    }\n",
       "\n",
       "    .dataframe tbody tr th {\n",
       "        vertical-align: top;\n",
       "    }\n",
       "\n",
       "    .dataframe thead th {\n",
       "        text-align: right;\n",
       "    }\n",
       "</style>\n",
       "<table border=\"1\" class=\"dataframe\">\n",
       "  <thead>\n",
       "    <tr style=\"text-align: right;\">\n",
       "      <th></th>\n",
       "      <th>CustomerID</th>\n",
       "      <th>Age</th>\n",
       "      <th>Annual_Income</th>\n",
       "      <th>Spending_Score</th>\n",
       "      <th>Gender_Bin</th>\n",
       "      <th>cluster</th>\n",
       "      <th>Cluster2</th>\n",
       "    </tr>\n",
       "  </thead>\n",
       "  <tbody>\n",
       "    <tr>\n",
       "      <th>0</th>\n",
       "      <td>1</td>\n",
       "      <td>19</td>\n",
       "      <td>15</td>\n",
       "      <td>39</td>\n",
       "      <td>1</td>\n",
       "      <td>3</td>\n",
       "      <td>3</td>\n",
       "    </tr>\n",
       "    <tr>\n",
       "      <th>1</th>\n",
       "      <td>2</td>\n",
       "      <td>21</td>\n",
       "      <td>15</td>\n",
       "      <td>81</td>\n",
       "      <td>1</td>\n",
       "      <td>3</td>\n",
       "      <td>1</td>\n",
       "    </tr>\n",
       "    <tr>\n",
       "      <th>2</th>\n",
       "      <td>3</td>\n",
       "      <td>20</td>\n",
       "      <td>16</td>\n",
       "      <td>6</td>\n",
       "      <td>0</td>\n",
       "      <td>2</td>\n",
       "      <td>3</td>\n",
       "    </tr>\n",
       "    <tr>\n",
       "      <th>3</th>\n",
       "      <td>4</td>\n",
       "      <td>23</td>\n",
       "      <td>16</td>\n",
       "      <td>77</td>\n",
       "      <td>0</td>\n",
       "      <td>3</td>\n",
       "      <td>1</td>\n",
       "    </tr>\n",
       "    <tr>\n",
       "      <th>4</th>\n",
       "      <td>5</td>\n",
       "      <td>31</td>\n",
       "      <td>17</td>\n",
       "      <td>40</td>\n",
       "      <td>0</td>\n",
       "      <td>2</td>\n",
       "      <td>3</td>\n",
       "    </tr>\n",
       "  </tbody>\n",
       "</table>\n",
       "</div>"
      ],
      "text/plain": [
       "   CustomerID  Age  Annual_Income  Spending_Score  Gender_Bin  cluster  \\\n",
       "0           1   19             15              39           1        3   \n",
       "1           2   21             15              81           1        3   \n",
       "2           3   20             16               6           0        2   \n",
       "3           4   23             16              77           0        3   \n",
       "4           5   31             17              40           0        2   \n",
       "\n",
       "   Cluster2  \n",
       "0         3  \n",
       "1         1  \n",
       "2         3  \n",
       "3         1  \n",
       "4         3  "
      ]
     },
     "execution_count": 32,
     "metadata": {},
     "output_type": "execute_result"
    }
   ],
   "source": [
    "df.head()"
   ]
  },
  {
   "cell_type": "code",
   "execution_count": 33,
   "metadata": {},
   "outputs": [
    {
     "data": {
      "text/plain": [
       "array([[87.        , 18.63157895],\n",
       "       [48.26      , 56.48      ],\n",
       "       [86.53846154, 82.12820513],\n",
       "       [26.30434783, 20.91304348]])"
      ]
     },
     "execution_count": 33,
     "metadata": {},
     "output_type": "execute_result"
    }
   ],
   "source": [
    "# centroid\n",
    "KM_model.cluster_centers_"
   ]
  },
  {
   "cell_type": "markdown",
   "metadata": {},
   "source": [
    "<hr>\n",
    "\n",
    "## **Visualization**"
   ]
  },
  {
   "cell_type": "code",
   "execution_count": 34,
   "metadata": {},
   "outputs": [
    {
     "data": {
      "image/png": "[encoded data removed]",
      "text/plain": [
       "<Figure size 864x432 with 1 Axes>"
      ]
     },
     "metadata": {},
     "output_type": "display_data"
    }
   ],
   "source": [
    "plt.style.use('seaborn')\n",
    "plt.figure(figsize=(12, 6))\n",
    "plt.scatter(\n",
    "    KM_model.cluster_centers_[:, 0],\n",
    "    KM_model.cluster_centers_[:, 1],\n",
    "    color = 'orange', marker = '*', s = 300\n",
    ")\n",
    "plt.plot(df['Annual_Income'][df['Cluster2'] == 0], df['Spending_Score'][df['Cluster2'] == 0], 'g.')\n",
    "plt.plot(df['Annual_Income'][df['Cluster2'] == 1], df['Spending_Score'][df['Cluster2'] == 1], 'b.')\n",
    "plt.plot(df['Annual_Income'][df['Cluster2'] == 2], df['Spending_Score'][df['Cluster2'] == 2], 'r.')\n",
    "plt.plot(df['Annual_Income'][df['Cluster2'] == 3], df['Spending_Score'][df['Cluster2'] == 3], 'y.')\n",
    "plt.grid(True)\n",
    "plt.title(\"Mall Customer Segmentation using KMeans\", size=20)\n",
    "plt.show()"
   ]
  },
  {
   "cell_type": "markdown",
   "metadata": {},
   "source": [
    "Visualisasi selanjutnya dibuat multiplot."
   ]
  },
  {
   "cell_type": "code",
   "execution_count": 35,
   "metadata": {},
   "outputs": [
    {
     "data": {
      "text/plain": [
       "Text(0.5, 1.0, 'Mall Customer in Cluster 3')"
      ]
     },
     "execution_count": 35,
     "metadata": {},
     "output_type": "execute_result"
    },
    {
     "data": {
      "image/png": "[encoded data removed]",
      "text/plain": [
       "<Figure size 864x720 with 4 Axes>"
      ]
     },
     "metadata": {},
     "output_type": "display_data"
    }
   ],
   "source": [
    "plt.figure(figsize=(12, 10))\n",
    "plt.subplot(411)\n",
    "plt.plot(df['Annual_Income'][df['Cluster2'] == 0], df['Spending_Score'][df['Cluster2'] == 0], 'g.')\n",
    "plt.title('Mall Customer in Cluster 0')\n",
    "plt.subplot(412)\n",
    "plt.plot(df['Annual_Income'][df['Cluster2'] == 1], df['Spending_Score'][df['Cluster2'] == 1], 'b.')\n",
    "plt.title('Mall Customer in Cluster 1')\n",
    "plt.subplot(413)\n",
    "plt.plot(df['Annual_Income'][df['Cluster2'] == 2], df['Spending_Score'][df['Cluster2'] == 2], 'r.')\n",
    "plt.title('Mall Customer in Cluster 2')\n",
    "plt.subplot(414)\n",
    "plt.plot(df['Annual_Income'][df['Cluster2'] == 3], df['Spending_Score'][df['Cluster2'] == 3], 'y.')\n",
    "plt.title('Mall Customer in Cluster 3')"
   ]
  },
  {
   "cell_type": "markdown",
   "metadata": {},
   "source": [
    "<hr>\n",
    "\n",
    "## **Cluster Exploration using Demographic Segmentation**\n",
    "\n",
    "Setelah mendapatkan cluster 0 sampai 3, kita eksplorasi berdasarkan aspek demografiknya.\n",
    "\n",
    "Lokasi centroid (titik tengah) pada tiap kluster dapat dilihat berikut ini:"
   ]
  },
  {
   "cell_type": "code",
   "execution_count": 36,
   "metadata": {},
   "outputs": [
    {
     "data": {
      "text/plain": [
       "array([[87.        , 18.63157895],\n",
       "       [48.26      , 56.48      ],\n",
       "       [86.53846154, 82.12820513],\n",
       "       [26.30434783, 20.91304348]])"
      ]
     },
     "execution_count": 36,
     "metadata": {},
     "output_type": "execute_result"
    }
   ],
   "source": [
    "KM_model.cluster_centers_"
   ]
  },
  {
   "cell_type": "markdown",
   "metadata": {},
   "source": [
    "Jumlah user di tiap kluster dapat dilihat di bawah ini. User di kluster 0 paling banyak, yaitu 124 user. Terbanyak kedua, yaitu user di kluster 2 sebanyak 25 user. Kluster 0 hanya diisi oleh satu user."
   ]
  },
  {
   "cell_type": "code",
   "execution_count": 37,
   "metadata": {},
   "outputs": [],
   "source": [
    "df_user_cluster_0 = df[df['Cluster2'] == 0]\n",
    "df_user_cluster_1 = df[df['Cluster2'] == 1]\n",
    "df_user_cluster_2 = df[df['Cluster2'] == 2]\n",
    "df_user_cluster_3 = df[df['Cluster2'] == 3]"
   ]
  },
  {
   "cell_type": "code",
   "execution_count": 38,
   "metadata": {},
   "outputs": [
    {
     "name": "stdout",
     "output_type": "stream",
     "text": [
      "Jumlah user di cluster 0: 38 \n",
      "Jumlah user di cluster 1: 100\n",
      "Jumlah user di cluster 2: 39 \n",
      "Jumlah user di cluster 3: 23\n"
     ]
    }
   ],
   "source": [
    "number_uc0 = len(df_user_cluster_0['CustomerID'].unique())\n",
    "number_uc1 = len(df_user_cluster_1['CustomerID'].unique())\n",
    "number_uc2 = len(df_user_cluster_2['CustomerID'].unique())\n",
    "number_uc3 = len(df_user_cluster_3['CustomerID'].unique())\n",
    "\n",
    "print(f'Jumlah user di cluster 0: {number_uc0} \\nJumlah user di cluster 1: {number_uc1}\\nJumlah user di cluster 2: {number_uc2} \\nJumlah user di cluster 3: {number_uc3}')"
   ]
  },
  {
   "cell_type": "markdown",
   "metadata": {},
   "source": [
    "### **1) Cluster 0**"
   ]
  },
  {
   "cell_type": "code",
   "execution_count": 39,
   "metadata": {},
   "outputs": [
    {
     "data": {
      "image/png": "[encoded data removed]",
      "text/plain": [
       "<Figure size 576x396 with 1 Axes>"
      ]
     },
     "metadata": {},
     "output_type": "display_data"
    }
   ],
   "source": [
    "plt.plot(df['Annual_Income'][df['Cluster2'] == 0], df['Spending_Score'][df['Cluster2'] == 0], 'g.')\n",
    "plt.title('Mall Customer in Cluster 0')\n",
    "plt.show()"
   ]
  },
  {
   "cell_type": "markdown",
   "metadata": {},
   "source": [
    "#### **Gender Distribution**"
   ]
  },
  {
   "cell_type": "code",
   "execution_count": 40,
   "metadata": {},
   "outputs": [
    {
     "data": {
      "image/png": "[encoded data removed]",
      "text/plain": [
       "<Figure size 576x288 with 1 Axes>"
      ]
     },
     "metadata": {},
     "output_type": "display_data"
    }
   ],
   "source": [
    "genders = df_user_cluster_0['Gender_Bin'].value_counts()\n",
    "sns.set_style(\"darkgrid\")\n",
    "plt.figure(figsize=(8,4))\n",
    "sns.barplot(x=genders.index, y=genders.values)\n",
    "plt.title(\"Gender Distribution in Cluster 0\", size=18)\n",
    "plt.show()"
   ]
  },
  {
   "cell_type": "markdown",
   "metadata": {},
   "source": [
    "#### **Gender & Age Distribution**"
   ]
  },
  {
   "cell_type": "code",
   "execution_count": 41,
   "metadata": {},
   "outputs": [
    {
     "data": {
      "image/png": "[encoded data removed]",
      "text/plain": [
       "<Figure size 576x288 with 1 Axes>"
      ]
     },
     "metadata": {},
     "output_type": "display_data"
    }
   ],
   "source": [
    "plt.figure(figsize=(8,4))\n",
    "plt.title(\"Ages & Gender in Cluster 0\", size=18)\n",
    "sns.axes_style(\"dark\")\n",
    "ax = sns.boxplot(x=\"Gender_Bin\", y=\"Age\", data=df_user_cluster_0)\n",
    "plt.show()"
   ]
  },
  {
   "cell_type": "code",
   "execution_count": 42,
   "metadata": {},
   "outputs": [],
   "source": [
    "df_user_cluster_0['AgeBand'] = pd.cut(df_user_cluster_0['Age'], 3)"
   ]
  },
  {
   "cell_type": "code",
   "execution_count": 43,
   "metadata": {},
   "outputs": [
    {
     "data": {
      "text/html": [
       "<div>\n",
       "<style scoped>\n",
       "    .dataframe tbody tr th:only-of-type {\n",
       "        vertical-align: middle;\n",
       "    }\n",
       "\n",
       "    .dataframe tbody tr th {\n",
       "        vertical-align: top;\n",
       "    }\n",
       "\n",
       "    .dataframe thead th {\n",
       "        text-align: right;\n",
       "    }\n",
       "</style>\n",
       "<table border=\"1\" class=\"dataframe\">\n",
       "  <thead>\n",
       "    <tr style=\"text-align: right;\">\n",
       "      <th>Gender_Bin</th>\n",
       "      <th>0</th>\n",
       "      <th>1</th>\n",
       "    </tr>\n",
       "    <tr>\n",
       "      <th>AgeBand</th>\n",
       "      <th></th>\n",
       "      <th></th>\n",
       "    </tr>\n",
       "  </thead>\n",
       "  <tbody>\n",
       "    <tr>\n",
       "      <th>(18.96, 32.333]</th>\n",
       "      <td>3</td>\n",
       "      <td>5</td>\n",
       "    </tr>\n",
       "    <tr>\n",
       "      <th>(32.333, 45.667]</th>\n",
       "      <td>9</td>\n",
       "      <td>8</td>\n",
       "    </tr>\n",
       "    <tr>\n",
       "      <th>(45.667, 59.0]</th>\n",
       "      <td>6</td>\n",
       "      <td>7</td>\n",
       "    </tr>\n",
       "  </tbody>\n",
       "</table>\n",
       "</div>"
      ],
      "text/plain": [
       "Gender_Bin        0  1\n",
       "AgeBand               \n",
       "(18.96, 32.333]   3  5\n",
       "(32.333, 45.667]  9  8\n",
       "(45.667, 59.0]    6  7"
      ]
     },
     "execution_count": 43,
     "metadata": {},
     "output_type": "execute_result"
    }
   ],
   "source": [
    "df_uc0_ct = pd.crosstab(df_user_cluster_0['AgeBand'], df_user_cluster_0['Gender_Bin'])\n",
    "df_uc0_ct"
   ]
  },
  {
   "cell_type": "code",
   "execution_count": 44,
   "metadata": {},
   "outputs": [
    {
     "data": {
      "text/html": [
       "<div>\n",
       "<style scoped>\n",
       "    .dataframe tbody tr th:only-of-type {\n",
       "        vertical-align: middle;\n",
       "    }\n",
       "\n",
       "    .dataframe tbody tr th {\n",
       "        vertical-align: top;\n",
       "    }\n",
       "\n",
       "    .dataframe thead th {\n",
       "        text-align: right;\n",
       "    }\n",
       "</style>\n",
       "<table border=\"1\" class=\"dataframe\">\n",
       "  <thead>\n",
       "    <tr style=\"text-align: right;\">\n",
       "      <th>Gender_Bin</th>\n",
       "      <th>0</th>\n",
       "      <th>1</th>\n",
       "    </tr>\n",
       "    <tr>\n",
       "      <th>AgeBand</th>\n",
       "      <th></th>\n",
       "      <th></th>\n",
       "    </tr>\n",
       "  </thead>\n",
       "  <tbody>\n",
       "    <tr>\n",
       "      <th>(18.96, 32.333]</th>\n",
       "      <td>34.333333</td>\n",
       "      <td>10.000</td>\n",
       "    </tr>\n",
       "    <tr>\n",
       "      <th>(32.333, 45.667]</th>\n",
       "      <td>23.888889</td>\n",
       "      <td>13.125</td>\n",
       "    </tr>\n",
       "    <tr>\n",
       "      <th>(45.667, 59.0]</th>\n",
       "      <td>18.166667</td>\n",
       "      <td>18.000</td>\n",
       "    </tr>\n",
       "  </tbody>\n",
       "</table>\n",
       "</div>"
      ],
      "text/plain": [
       "Gender_Bin                0       1\n",
       "AgeBand                            \n",
       "(18.96, 32.333]   34.333333  10.000\n",
       "(32.333, 45.667]  23.888889  13.125\n",
       "(45.667, 59.0]    18.166667  18.000"
      ]
     },
     "execution_count": 44,
     "metadata": {},
     "output_type": "execute_result"
    }
   ],
   "source": [
    "df_pivot_uc0 = pd.pivot_table(df_user_cluster_0, values='Spending_Score', index=['AgeBand'],\n",
    "                              columns=['Gender_Bin'], aggfunc=np.mean)\n",
    "df_pivot_uc0"
   ]
  },
  {
   "cell_type": "markdown",
   "metadata": {},
   "source": [
    "### **2) Cluster 1**"
   ]
  },
  {
   "cell_type": "code",
   "execution_count": 45,
   "metadata": {},
   "outputs": [
    {
     "data": {
      "image/png": "[encoded data removed]",
      "text/plain": [
       "<Figure size 576x396 with 1 Axes>"
      ]
     },
     "metadata": {},
     "output_type": "display_data"
    }
   ],
   "source": [
    "plt.plot(df['Annual_Income'][df['Cluster2'] == 1], df['Spending_Score'][df['Cluster2'] == 1], 'b.')\n",
    "plt.title('Mall Customer in Cluster 1')\n",
    "plt.show()"
   ]
  },
  {
   "cell_type": "markdown",
   "metadata": {},
   "source": [
    "#### **Gender Distribution**"
   ]
  },
  {
   "cell_type": "code",
   "execution_count": 46,
   "metadata": {},
   "outputs": [
    {
     "data": {
      "image/png": "[encoded data removed]",
      "text/plain": [
       "<Figure size 576x288 with 1 Axes>"
      ]
     },
     "metadata": {},
     "output_type": "display_data"
    }
   ],
   "source": [
    "genders = df_user_cluster_1['Gender_Bin'].value_counts()\n",
    "sns.set_style(\"darkgrid\")\n",
    "plt.figure(figsize=(8,4))\n",
    "sns.barplot(x=genders.index, y=genders.values)\n",
    "plt.title(\"Gender Distribution in Cluster 1\", size=18)\n",
    "plt.show()"
   ]
  },
  {
   "cell_type": "markdown",
   "metadata": {},
   "source": [
    "#### **Gender & Age Distribution**"
   ]
  },
  {
   "cell_type": "code",
   "execution_count": 47,
   "metadata": {},
   "outputs": [
    {
     "data": {
      "image/png": "[encoded data removed]",
      "text/plain": [
       "<Figure size 576x288 with 1 Axes>"
      ]
     },
     "metadata": {},
     "output_type": "display_data"
    }
   ],
   "source": [
    "plt.figure(figsize=(8,4))\n",
    "plt.title(\"Ages & Gender in Cluster 1\", size=18)\n",
    "sns.axes_style(\"dark\")\n",
    "ax = sns.boxplot(x=\"Gender_Bin\", y=\"Age\", data=df_user_cluster_1)\n",
    "plt.show()"
   ]
  },
  {
   "cell_type": "code",
   "execution_count": 48,
   "metadata": {},
   "outputs": [],
   "source": [
    "df_user_cluster_1['AgeBand'] = pd.cut(df_user_cluster_1['Age'], 3)"
   ]
  },
  {
   "cell_type": "code",
   "execution_count": 49,
   "metadata": {},
   "outputs": [
    {
     "data": {
      "text/html": [
       "<div>\n",
       "<style scoped>\n",
       "    .dataframe tbody tr th:only-of-type {\n",
       "        vertical-align: middle;\n",
       "    }\n",
       "\n",
       "    .dataframe tbody tr th {\n",
       "        vertical-align: top;\n",
       "    }\n",
       "\n",
       "    .dataframe thead th {\n",
       "        text-align: right;\n",
       "    }\n",
       "</style>\n",
       "<table border=\"1\" class=\"dataframe\">\n",
       "  <thead>\n",
       "    <tr style=\"text-align: right;\">\n",
       "      <th>Gender_Bin</th>\n",
       "      <th>0</th>\n",
       "      <th>1</th>\n",
       "    </tr>\n",
       "    <tr>\n",
       "      <th>AgeBand</th>\n",
       "      <th></th>\n",
       "      <th></th>\n",
       "    </tr>\n",
       "  </thead>\n",
       "  <tbody>\n",
       "    <tr>\n",
       "      <th>(17.948, 35.333]</th>\n",
       "      <td>31</td>\n",
       "      <td>20</td>\n",
       "    </tr>\n",
       "    <tr>\n",
       "      <th>(35.333, 52.667]</th>\n",
       "      <td>19</td>\n",
       "      <td>7</td>\n",
       "    </tr>\n",
       "    <tr>\n",
       "      <th>(52.667, 70.0]</th>\n",
       "      <td>9</td>\n",
       "      <td>14</td>\n",
       "    </tr>\n",
       "  </tbody>\n",
       "</table>\n",
       "</div>"
      ],
      "text/plain": [
       "Gender_Bin         0   1\n",
       "AgeBand                 \n",
       "(17.948, 35.333]  31  20\n",
       "(35.333, 52.667]  19   7\n",
       "(52.667, 70.0]     9  14"
      ]
     },
     "execution_count": 49,
     "metadata": {},
     "output_type": "execute_result"
    }
   ],
   "source": [
    "df_uc1_ct = pd.crosstab(df_user_cluster_1['AgeBand'], df_user_cluster_1['Gender_Bin'])\n",
    "df_uc1_ct"
   ]
  },
  {
   "cell_type": "code",
   "execution_count": 50,
   "metadata": {},
   "outputs": [
    {
     "data": {
      "text/html": [
       "<div>\n",
       "<style scoped>\n",
       "    .dataframe tbody tr th:only-of-type {\n",
       "        vertical-align: middle;\n",
       "    }\n",
       "\n",
       "    .dataframe tbody tr th {\n",
       "        vertical-align: top;\n",
       "    }\n",
       "\n",
       "    .dataframe thead th {\n",
       "        text-align: right;\n",
       "    }\n",
       "</style>\n",
       "<table border=\"1\" class=\"dataframe\">\n",
       "  <thead>\n",
       "    <tr style=\"text-align: right;\">\n",
       "      <th>Gender_Bin</th>\n",
       "      <th>0</th>\n",
       "      <th>1</th>\n",
       "    </tr>\n",
       "    <tr>\n",
       "      <th>AgeBand</th>\n",
       "      <th></th>\n",
       "      <th></th>\n",
       "    </tr>\n",
       "  </thead>\n",
       "  <tbody>\n",
       "    <tr>\n",
       "      <th>(17.948, 35.333]</th>\n",
       "      <td>62.645161</td>\n",
       "      <td>64.250000</td>\n",
       "    </tr>\n",
       "    <tr>\n",
       "      <th>(35.333, 52.667]</th>\n",
       "      <td>48.052632</td>\n",
       "      <td>48.142857</td>\n",
       "    </tr>\n",
       "    <tr>\n",
       "      <th>(52.667, 70.0]</th>\n",
       "      <td>52.222222</td>\n",
       "      <td>50.071429</td>\n",
       "    </tr>\n",
       "  </tbody>\n",
       "</table>\n",
       "</div>"
      ],
      "text/plain": [
       "Gender_Bin                0          1\n",
       "AgeBand                               \n",
       "(17.948, 35.333]  62.645161  64.250000\n",
       "(35.333, 52.667]  48.052632  48.142857\n",
       "(52.667, 70.0]    52.222222  50.071429"
      ]
     },
     "execution_count": 50,
     "metadata": {},
     "output_type": "execute_result"
    }
   ],
   "source": [
    "df_pivot_uc1 = pd.pivot_table(df_user_cluster_1, values='Spending_Score', index=['AgeBand'],\n",
    "                              columns=['Gender_Bin'], aggfunc=np.mean)\n",
    "df_pivot_uc1"
   ]
  },
  {
   "cell_type": "markdown",
   "metadata": {},
   "source": [
    "### **3) Cluster 2**"
   ]
  },
  {
   "cell_type": "code",
   "execution_count": 51,
   "metadata": {},
   "outputs": [
    {
     "data": {
      "image/png": "[encoded data removed]",
      "text/plain": [
       "<Figure size 576x396 with 1 Axes>"
      ]
     },
     "metadata": {},
     "output_type": "display_data"
    }
   ],
   "source": [
    "plt.plot(df['Annual_Income'][df['Cluster2'] == 2], df['Spending_Score'][df['Cluster2'] == 2], 'r.')\n",
    "plt.title('Mall Customer in Cluster 2')\n",
    "plt.show()"
   ]
  },
  {
   "cell_type": "markdown",
   "metadata": {},
   "source": [
    "#### **Gender Distribution**"
   ]
  },
  {
   "cell_type": "code",
   "execution_count": 52,
   "metadata": {},
   "outputs": [
    {
     "data": {
      "image/png": "[encoded data removed]",
      "text/plain": [
       "<Figure size 576x288 with 1 Axes>"
      ]
     },
     "metadata": {},
     "output_type": "display_data"
    }
   ],
   "source": [
    "genders = df_user_cluster_2['Gender_Bin'].value_counts()\n",
    "sns.set_style(\"darkgrid\")\n",
    "plt.figure(figsize=(8,4))\n",
    "sns.barplot(x=genders.index, y=genders.values)\n",
    "plt.title(\"Gender Distribution in Cluster 2\", size=18)\n",
    "plt.show()"
   ]
  },
  {
   "cell_type": "markdown",
   "metadata": {},
   "source": [
    "#### **Gender & Age Distribution**"
   ]
  },
  {
   "cell_type": "code",
   "execution_count": 53,
   "metadata": {},
   "outputs": [
    {
     "data": {
      "image/png": "[encoded data removed]",
      "text/plain": [
       "<Figure size 576x288 with 1 Axes>"
      ]
     },
     "metadata": {},
     "output_type": "display_data"
    }
   ],
   "source": [
    "plt.figure(figsize=(8,4))\n",
    "plt.title(\"Ages & Gender in Cluster 2\", size=18)\n",
    "sns.axes_style(\"dark\")\n",
    "ax = sns.boxplot(x=\"Gender_Bin\", y=\"Age\", data=df_user_cluster_2)\n",
    "plt.show()"
   ]
  },
  {
   "cell_type": "code",
   "execution_count": 54,
   "metadata": {},
   "outputs": [],
   "source": [
    "df_user_cluster_2['AgeBand'] = pd.cut(df_user_cluster_2['Age'], 3)"
   ]
  },
  {
   "cell_type": "code",
   "execution_count": 55,
   "metadata": {},
   "outputs": [
    {
     "data": {
      "text/html": [
       "<div>\n",
       "<style scoped>\n",
       "    .dataframe tbody tr th:only-of-type {\n",
       "        vertical-align: middle;\n",
       "    }\n",
       "\n",
       "    .dataframe tbody tr th {\n",
       "        vertical-align: top;\n",
       "    }\n",
       "\n",
       "    .dataframe thead th {\n",
       "        text-align: right;\n",
       "    }\n",
       "</style>\n",
       "<table border=\"1\" class=\"dataframe\">\n",
       "  <thead>\n",
       "    <tr style=\"text-align: right;\">\n",
       "      <th>Gender_Bin</th>\n",
       "      <th>0</th>\n",
       "      <th>1</th>\n",
       "    </tr>\n",
       "    <tr>\n",
       "      <th>AgeBand</th>\n",
       "      <th></th>\n",
       "      <th></th>\n",
       "    </tr>\n",
       "  </thead>\n",
       "  <tbody>\n",
       "    <tr>\n",
       "      <th>(26.987, 31.333]</th>\n",
       "      <td>10</td>\n",
       "      <td>6</td>\n",
       "    </tr>\n",
       "    <tr>\n",
       "      <th>(31.333, 35.667]</th>\n",
       "      <td>7</td>\n",
       "      <td>6</td>\n",
       "    </tr>\n",
       "    <tr>\n",
       "      <th>(35.667, 40.0]</th>\n",
       "      <td>4</td>\n",
       "      <td>6</td>\n",
       "    </tr>\n",
       "  </tbody>\n",
       "</table>\n",
       "</div>"
      ],
      "text/plain": [
       "Gender_Bin         0  1\n",
       "AgeBand                \n",
       "(26.987, 31.333]  10  6\n",
       "(31.333, 35.667]   7  6\n",
       "(35.667, 40.0]     4  6"
      ]
     },
     "execution_count": 55,
     "metadata": {},
     "output_type": "execute_result"
    }
   ],
   "source": [
    "df_uc2_ct = pd.crosstab(df_user_cluster_2['AgeBand'], df_user_cluster_2['Gender_Bin'])\n",
    "df_uc2_ct"
   ]
  },
  {
   "cell_type": "code",
   "execution_count": 56,
   "metadata": {},
   "outputs": [
    {
     "data": {
      "text/html": [
       "<div>\n",
       "<style scoped>\n",
       "    .dataframe tbody tr th:only-of-type {\n",
       "        vertical-align: middle;\n",
       "    }\n",
       "\n",
       "    .dataframe tbody tr th {\n",
       "        vertical-align: top;\n",
       "    }\n",
       "\n",
       "    .dataframe thead th {\n",
       "        text-align: right;\n",
       "    }\n",
       "</style>\n",
       "<table border=\"1\" class=\"dataframe\">\n",
       "  <thead>\n",
       "    <tr style=\"text-align: right;\">\n",
       "      <th>Gender_Bin</th>\n",
       "      <th>0</th>\n",
       "      <th>1</th>\n",
       "    </tr>\n",
       "    <tr>\n",
       "      <th>AgeBand</th>\n",
       "      <th></th>\n",
       "      <th></th>\n",
       "    </tr>\n",
       "  </thead>\n",
       "  <tbody>\n",
       "    <tr>\n",
       "      <th>(26.987, 31.333]</th>\n",
       "      <td>82.600000</td>\n",
       "      <td>81.5</td>\n",
       "    </tr>\n",
       "    <tr>\n",
       "      <th>(31.333, 35.667]</th>\n",
       "      <td>80.285714</td>\n",
       "      <td>80.5</td>\n",
       "    </tr>\n",
       "    <tr>\n",
       "      <th>(35.667, 40.0]</th>\n",
       "      <td>81.750000</td>\n",
       "      <td>86.0</td>\n",
       "    </tr>\n",
       "  </tbody>\n",
       "</table>\n",
       "</div>"
      ],
      "text/plain": [
       "Gender_Bin                0     1\n",
       "AgeBand                          \n",
       "(26.987, 31.333]  82.600000  81.5\n",
       "(31.333, 35.667]  80.285714  80.5\n",
       "(35.667, 40.0]    81.750000  86.0"
      ]
     },
     "execution_count": 56,
     "metadata": {},
     "output_type": "execute_result"
    }
   ],
   "source": [
    "df_pivot_uc2 = pd.pivot_table(df_user_cluster_2, values='Spending_Score', index=['AgeBand'],\n",
    "                              columns=['Gender_Bin'], aggfunc=np.mean)\n",
    "df_pivot_uc2"
   ]
  },
  {
   "cell_type": "markdown",
   "metadata": {},
   "source": [
    "### **3) Cluster 3**"
   ]
  },
  {
   "cell_type": "code",
   "execution_count": 57,
   "metadata": {},
   "outputs": [
    {
     "data": {
      "image/png": "[encoded data removed]",
      "text/plain": [
       "<Figure size 576x396 with 1 Axes>"
      ]
     },
     "metadata": {},
     "output_type": "display_data"
    }
   ],
   "source": [
    "plt.plot(df['Annual_Income'][df['Cluster2'] == 3], df['Spending_Score'][df['Cluster2'] == 3], 'y.')\n",
    "plt.title('Mall Customer in Cluster 3')\n",
    "plt.show()"
   ]
  },
  {
   "cell_type": "markdown",
   "metadata": {},
   "source": [
    "#### **Gender Distribution**"
   ]
  },
  {
   "cell_type": "code",
   "execution_count": 58,
   "metadata": {},
   "outputs": [
    {
     "data": {
      "image/png": "[encoded data removed]",
      "text/plain": [
       "<Figure size 576x288 with 1 Axes>"
      ]
     },
     "metadata": {},
     "output_type": "display_data"
    }
   ],
   "source": [
    "genders = df_user_cluster_3['Gender_Bin'].value_counts()\n",
    "sns.set_style(\"darkgrid\")\n",
    "plt.figure(figsize=(8,4))\n",
    "sns.barplot(x=genders.index, y=genders.values)\n",
    "plt.title(\"Gender Distribution in Cluster 3\", size=18)\n",
    "plt.show()"
   ]
  },
  {
   "cell_type": "markdown",
   "metadata": {},
   "source": [
    "#### **Gender & Age Distribution**"
   ]
  },
  {
   "cell_type": "code",
   "execution_count": 59,
   "metadata": {},
   "outputs": [
    {
     "data": {
      "image/png": "[encoded data removed]",
      "text/plain": [
       "<Figure size 576x288 with 1 Axes>"
      ]
     },
     "metadata": {},
     "output_type": "display_data"
    }
   ],
   "source": [
    "plt.figure(figsize=(8,4))\n",
    "plt.title(\"Ages & Gender in Cluster 3\", size=18)\n",
    "sns.axes_style(\"dark\")\n",
    "ax = sns.boxplot(x=\"Gender_Bin\", y=\"Age\", data=df_user_cluster_3)\n",
    "plt.show()"
   ]
  },
  {
   "cell_type": "code",
   "execution_count": 60,
   "metadata": {},
   "outputs": [],
   "source": [
    "df_user_cluster_3['AgeBand'] = pd.cut(df_user_cluster_3['Age'], 3)"
   ]
  },
  {
   "cell_type": "code",
   "execution_count": 61,
   "metadata": {},
   "outputs": [
    {
     "data": {
      "text/html": [
       "<div>\n",
       "<style scoped>\n",
       "    .dataframe tbody tr th:only-of-type {\n",
       "        vertical-align: middle;\n",
       "    }\n",
       "\n",
       "    .dataframe tbody tr th {\n",
       "        vertical-align: top;\n",
       "    }\n",
       "\n",
       "    .dataframe thead th {\n",
       "        text-align: right;\n",
       "    }\n",
       "</style>\n",
       "<table border=\"1\" class=\"dataframe\">\n",
       "  <thead>\n",
       "    <tr style=\"text-align: right;\">\n",
       "      <th>Gender_Bin</th>\n",
       "      <th>0</th>\n",
       "      <th>1</th>\n",
       "    </tr>\n",
       "    <tr>\n",
       "      <th>AgeBand</th>\n",
       "      <th></th>\n",
       "      <th></th>\n",
       "    </tr>\n",
       "  </thead>\n",
       "  <tbody>\n",
       "    <tr>\n",
       "      <th>(18.952, 35.0]</th>\n",
       "      <td>4</td>\n",
       "      <td>2</td>\n",
       "    </tr>\n",
       "    <tr>\n",
       "      <th>(35.0, 51.0]</th>\n",
       "      <td>7</td>\n",
       "      <td>2</td>\n",
       "    </tr>\n",
       "    <tr>\n",
       "      <th>(51.0, 67.0]</th>\n",
       "      <td>3</td>\n",
       "      <td>5</td>\n",
       "    </tr>\n",
       "  </tbody>\n",
       "</table>\n",
       "</div>"
      ],
      "text/plain": [
       "Gender_Bin      0  1\n",
       "AgeBand             \n",
       "(18.952, 35.0]  4  2\n",
       "(35.0, 51.0]    7  2\n",
       "(51.0, 67.0]    3  5"
      ]
     },
     "execution_count": 61,
     "metadata": {},
     "output_type": "execute_result"
    }
   ],
   "source": [
    "df_uc3_ct = pd.crosstab(df_user_cluster_3['AgeBand'], df_user_cluster_3['Gender_Bin'])\n",
    "df_uc3_ct"
   ]
  },
  {
   "cell_type": "code",
   "execution_count": 62,
   "metadata": {},
   "outputs": [
    {
     "data": {
      "text/html": [
       "<div>\n",
       "<style scoped>\n",
       "    .dataframe tbody tr th:only-of-type {\n",
       "        vertical-align: middle;\n",
       "    }\n",
       "\n",
       "    .dataframe tbody tr th {\n",
       "        vertical-align: top;\n",
       "    }\n",
       "\n",
       "    .dataframe thead th {\n",
       "        text-align: right;\n",
       "    }\n",
       "</style>\n",
       "<table border=\"1\" class=\"dataframe\">\n",
       "  <thead>\n",
       "    <tr style=\"text-align: right;\">\n",
       "      <th>Gender_Bin</th>\n",
       "      <th>0</th>\n",
       "      <th>1</th>\n",
       "    </tr>\n",
       "    <tr>\n",
       "      <th>AgeBand</th>\n",
       "      <th></th>\n",
       "      <th></th>\n",
       "    </tr>\n",
       "  </thead>\n",
       "  <tbody>\n",
       "    <tr>\n",
       "      <th>(18.952, 35.0]</th>\n",
       "      <td>21.750000</td>\n",
       "      <td>37.0</td>\n",
       "    </tr>\n",
       "    <tr>\n",
       "      <th>(35.0, 51.0]</th>\n",
       "      <td>21.857143</td>\n",
       "      <td>24.5</td>\n",
       "    </tr>\n",
       "    <tr>\n",
       "      <th>(51.0, 67.0]</th>\n",
       "      <td>21.333333</td>\n",
       "      <td>10.8</td>\n",
       "    </tr>\n",
       "  </tbody>\n",
       "</table>\n",
       "</div>"
      ],
      "text/plain": [
       "Gender_Bin              0     1\n",
       "AgeBand                        \n",
       "(18.952, 35.0]  21.750000  37.0\n",
       "(35.0, 51.0]    21.857143  24.5\n",
       "(51.0, 67.0]    21.333333  10.8"
      ]
     },
     "execution_count": 62,
     "metadata": {},
     "output_type": "execute_result"
    }
   ],
   "source": [
    "df_pivot_uc3 = pd.pivot_table(df_user_cluster_3, values='Spending_Score', index=['AgeBand'],\n",
    "                              columns=['Gender_Bin'], aggfunc=np.mean)\n",
    "df_pivot_uc3"
   ]
  },
  {
   "cell_type": "markdown",
   "metadata": {},
   "source": [
    "``Berdasarkan clustering based on behavioral data lalu dilanjutkan eksplorasi berdasarkan data-data demografik memungkinkan kita untuk mendapatkan insight lebih luas tentang user/market. Team marketing akan terbantu dengan informasi yang lebih detail terkait siapa target market yang paling potensial untuk perusahaan.``"
   ]
  },
  {
   "cell_type": "markdown",
   "metadata": {},
   "source": [
    "## **Reference**:\n",
    "- Gifa Delyani Nursyafitri, \"K-Means Clustering menggunakan Python\", https://medium.com/@gifadelyaninursyafitri/k-means-clustering-menggunakan-python-deeb0881333c\n",
    "- Fauziyah Dewi, \"K-Means Clustering with Scikit-Learn in Python\", https://medium.com/@fauziyahdewi16/k-means-clustering-with-scikit-learn-in-python-b8e7835d9753\n",
    "- Ryan Reza Fadillah, \"Ritel K-Mean Clustering Using Python\", https://medium.com/@ryanrezafadillah/ritel-k-mean-clustering-using-python-90f813b474b1\n",
    "- Dileka Madushan, \"Introduction to K-means Clustering\", https://medium.com/@dilekamadushan/introduction-to-k-means-clustering-7c0ebc997e00\n",
    "- Seema Singh, \"K-Means Clustering\", https://medium.com/datadriveninvestor/k-means-clustering-b89d349e98e6\n",
    "- Rizky Desi Ramadhani, \"Memahami K-Mean Clustering Pada Machine Learning Dengan Phyton\", https://medium.com/@16611129/memahami-k-mean-clustering-pada-machine-learning-dengan-phyton-430323d80868\n",
    "- Pulkit Sharma, \"The Most Comprehensive Guide to K-Means Clustering You’ll Ever Need\", https://www.analyticsvidhya.com/blog/2019/08/comprehensive-guide-k-means-clustering/\n",
    "- Geeksforgeeks, \"K means Clustering – Introduction\", https://www.geeksforgeeks.org/k-means-clustering-introduction/\n",
    "- Dr. Michael J. Garbade, \"Understanding K-means Clustering in Machine Learning\", https://towardsdatascience.com/understanding-k-means-clustering-in-machine-learning-6a6e67336aa1\n",
    "- Geeksforgeeks, \"Clustering in Machine Learning\", https://www.geeksforgeeks.org/clustering-in-machine-learning/\n",
    "- Dataset source: https://www.kaggle.com/vjchoudhary7/customer-segmentation-tutorial-in-python\n",
    "- Robert Miller, \"Clustering: Why to Use it\", https://towardsdatascience.com/clustering-why-to-use-it-16d8e2fbafe"
   ]
  }
 ],
 "metadata": {
  "kernelspec": {
   "display_name": "Python 3.8.1 32-bit",
   "language": "python",
   "name": "python38132bitf9f79e71b62e4503b25567c1d3914456"
  },
  "language_info": {
   "codemirror_mode": {
    "name": "ipython",
    "version": 3
   },
   "file_extension": ".py",
   "mimetype": "text/x-python",
   "name": "python",
   "nbconvert_exporter": "python",
   "pygments_lexer": "ipython3",
   "version": "3.8.1"
  }
 },
 "nbformat": 4,
 "nbformat_minor": 4
}
